{
 "cells": [
  {
   "cell_type": "code",
   "execution_count": 2,
   "id": "a161092a",
   "metadata": {},
   "outputs": [],
   "source": [
    "import pandas as pd"
   ]
  },
  {
   "cell_type": "code",
   "execution_count": 3,
   "id": "003c4a2a",
   "metadata": {},
   "outputs": [],
   "source": [
    "DATASET_PATH = \"data/mock1.csv\" "
   ]
  },
  {
   "cell_type": "code",
   "execution_count": 4,
   "id": "f74c4f9e",
   "metadata": {},
   "outputs": [],
   "source": [
    "import pandas as pd\n",
    "import random\n",
    "from datetime import datetime, timedelta\n",
    "import json\n",
    "\n",
    "def generate_mock_commit_data(num_commits):\n",
    "    \"\"\"\n",
    "    Generates mock data for a set of Git commits.\n",
    "\n",
    "    Args:\n",
    "        num_commits (int): The number of mock commits to generate.\n",
    "\n",
    "    Returns:\n",
    "        pandas.DataFrame: A DataFrame with mock commit data.\n",
    "    \"\"\"\n",
    "\n",
    "    data = []\n",
    "    commit_index = {}\n",
    "    # Generate unique commit hashes\n",
    "    commit_hashes = [f\"{i:07x}\" for i in range(num_commits)]\n",
    "\n",
    "    generated_parent = False\n",
    "\n",
    "    for i in range(num_commits):\n",
    "        commit = commit_hashes[i] \n",
    "\n",
    "        # Parents:\n",
    "        num_parents = random.choice([1,2]) if generated_parent else 0\n",
    "        if num_parents == 0:\n",
    "            generated_parent = True\n",
    "        parents = []\n",
    "        if num_parents > 0 and i > 0:\n",
    "            # Ensure parents are from previously generated commits\n",
    "            possible_parents = commit_hashes[:i]\n",
    "            parents = random.sample(possible_parents, min(num_parents, len(possible_parents)))\n",
    "        \n",
    "        # Author and Commit Time:\n",
    "        # Start from a recent past date and go backwards\n",
    "        if num_parents == 0:\n",
    "            commit_time = datetime.now() - timedelta(days=random.randint(0, 365), \n",
    "                                                    hours=random.randint(0, 23), \n",
    "                                                    minutes=random.randint(0, 59))\n",
    "        else:\n",
    "            parent_time = commit_index[parents[-1]] \n",
    "            commit_time = parent_time + timedelta(days=random.randint(0, 15), \n",
    "                                                    hours=random.randint(0, 23), \n",
    "                                                    minutes=random.randint(0, 59))\n",
    "        author_time = commit_time - timedelta(minutes=random.randint(0, 60)) # Author time can be slightly before commit time\n",
    "\n",
    "        commit_index[str(commit)] = commit_time\n",
    "\n",
    "        # Plus/Minus Diff:\n",
    "        insertions = random.randint(0, 500)\n",
    "        deletions = random.randint(0, 300)\n",
    "\n",
    "        # Tags (Author/Committer):\n",
    "        people = [x + y + z for x in [\"Alice\", \"Bob\", \"Charlie\", \"David\", \"Eve\"] for y in [\"Alice\", \"Bob\", \"Charlie\", \"David\", \"Eve\"] for z in [\"Alice\", \"Bob\", \"Charlie\", \"David\", \"Eve\"] ]\n",
    "        authors = people\n",
    "        committers = people\n",
    "        tags = {\n",
    "            \"author\": random.choice(authors),\n",
    "            \"committer\": random.choice(committers[:25])\n",
    "        }\n",
    "\n",
    "        data.append({\n",
    "            \"commit\": commit,\n",
    "            \"parents\": parents,\n",
    "            \"author_time\": author_time,\n",
    "            \"commit_time\": commit_time,\n",
    "            \"insertions\": insertions,\n",
    "            \"deletions\": deletions,\n",
    "            \"tags\": json.dumps(tags)  # Store JSON as a string\n",
    "        })\n",
    "\n",
    "    df = pd.DataFrame(data)\n",
    "    return df"
   ]
  },
  {
   "cell_type": "code",
   "execution_count": 5,
   "id": "8af67f1a",
   "metadata": {},
   "outputs": [],
   "source": [
    "generate_mock_commit_data(500).to_csv(DATASET_PATH,index=False)"
   ]
  },
  {
   "cell_type": "code",
   "execution_count": 6,
   "id": "a2afa5d9",
   "metadata": {},
   "outputs": [
    {
     "data": {
      "text/plain": [
       "0      {\"author\": \"DavidDavidDavid\", \"committer\": \"Al...\n",
       "1      {\"author\": \"DavidCharlieEve\", \"committer\": \"Al...\n",
       "2      {\"author\": \"EveDavidEve\", \"committer\": \"AliceB...\n",
       "3      {\"author\": \"EveBobBob\", \"committer\": \"AliceCha...\n",
       "4      {\"author\": \"AliceBobEve\", \"committer\": \"AliceA...\n",
       "                             ...                        \n",
       "495    {\"author\": \"DavidAliceDavid\", \"committer\": \"Al...\n",
       "496    {\"author\": \"DavidAliceCharlie\", \"committer\": \"...\n",
       "497    {\"author\": \"AliceDavidBob\", \"committer\": \"Alic...\n",
       "498    {\"author\": \"BobAliceCharlie\", \"committer\": \"Al...\n",
       "499    {\"author\": \"CharlieAliceBob\", \"committer\": \"Al...\n",
       "Name: tags, Length: 500, dtype: object"
      ]
     },
     "execution_count": 6,
     "metadata": {},
     "output_type": "execute_result"
    }
   ],
   "source": [
    "loaded_mock = pd.read_csv(DATASET_PATH)\n",
    "loaded_mock['tags']"
   ]
  }
 ],
 "metadata": {
  "kernelspec": {
   "display_name": ".venv",
   "language": "python",
   "name": "python3"
  },
  "language_info": {
   "codemirror_mode": {
    "name": "ipython",
    "version": 3
   },
   "file_extension": ".py",
   "mimetype": "text/x-python",
   "name": "python",
   "nbconvert_exporter": "python",
   "pygments_lexer": "ipython3",
   "version": "3.10.12"
  }
 },
 "nbformat": 4,
 "nbformat_minor": 5
}
